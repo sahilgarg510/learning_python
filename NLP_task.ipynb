{
  "nbformat": 4,
  "nbformat_minor": 0,
  "metadata": {
    "colab": {
      "provenance": [],
      "collapsed_sections": [
        "m3tWmnnXEvQp",
        "Xlr20fc1Et2R",
        "eZ1cbuubE-Xk",
        "UpTuajK4FVUZ"
      ],
      "authorship_tag": "ABX9TyM+Ph9XijM5P+fQwiznHIDg",
      "include_colab_link": true
    },
    "kernelspec": {
      "name": "python3",
      "display_name": "Python 3"
    },
    "language_info": {
      "name": "python"
    }
  },
  "cells": [
    {
      "cell_type": "markdown",
      "metadata": {
        "id": "view-in-github",
        "colab_type": "text"
      },
      "source": [
        "<a href=\"https://colab.research.google.com/github/sahilgarg510/learning_python/blob/main/NLP_task.ipynb\" target=\"_parent\"><img src=\"https://colab.research.google.com/assets/colab-badge.svg\" alt=\"Open In Colab\"/></a>"
      ]
    },
    {
      "cell_type": "markdown",
      "source": [
        "## Installing required libraries."
      ],
      "metadata": {
        "id": "m3tWmnnXEvQp"
      }
    },
    {
      "cell_type": "code",
      "execution_count": null,
      "metadata": {
        "colab": {
          "base_uri": "https://localhost:8080/"
        },
        "id": "_wA1bPvS79uj",
        "outputId": "ecd1f868-197c-4655-a35a-5a8cc91208a2"
      },
      "outputs": [
        {
          "output_type": "stream",
          "name": "stderr",
          "text": [
            "[nltk_data] Downloading package gutenberg to /root/nltk_data...\n",
            "[nltk_data]   Unzipping corpora/gutenberg.zip.\n"
          ]
        },
        {
          "output_type": "execute_result",
          "data": {
            "text/plain": [
              "True"
            ]
          },
          "metadata": {},
          "execution_count": 1
        }
      ],
      "source": [
        "import nltk\n",
        "nltk.download('gutenberg')"
      ]
    },
    {
      "cell_type": "code",
      "source": [
        "nltk.download('stopwords')\n",
        "stopwords = nltk.corpus.stopwords.words('english')"
      ],
      "metadata": {
        "colab": {
          "base_uri": "https://localhost:8080/"
        },
        "id": "sSm0uUYRn0LJ",
        "outputId": "ddee406b-c676-4368-e99c-d292c3b951a9"
      },
      "execution_count": null,
      "outputs": [
        {
          "output_type": "stream",
          "name": "stderr",
          "text": [
            "[nltk_data] Downloading package stopwords to /root/nltk_data...\n",
            "[nltk_data]   Unzipping corpora/stopwords.zip.\n"
          ]
        }
      ]
    },
    {
      "cell_type": "code",
      "source": [
        "nltk.download('universal_tagset')"
      ],
      "metadata": {
        "colab": {
          "base_uri": "https://localhost:8080/"
        },
        "id": "hvSWqkTlqE2M",
        "outputId": "233539cb-9821-4b78-d047-b2cc18582231"
      },
      "execution_count": null,
      "outputs": [
        {
          "output_type": "stream",
          "name": "stderr",
          "text": [
            "[nltk_data] Downloading package universal_tagset to /root/nltk_data...\n",
            "[nltk_data]   Unzipping taggers/universal_tagset.zip.\n"
          ]
        },
        {
          "output_type": "execute_result",
          "data": {
            "text/plain": [
              "True"
            ]
          },
          "metadata": {},
          "execution_count": 43
        }
      ]
    },
    {
      "cell_type": "code",
      "source": [
        "nltk.download('averaged_perceptron_tagger')"
      ],
      "metadata": {
        "colab": {
          "base_uri": "https://localhost:8080/"
        },
        "id": "EoD11j7pp_7H",
        "outputId": "7b6f375b-8c4b-42f6-c2da-7f968af150d5"
      },
      "execution_count": null,
      "outputs": [
        {
          "output_type": "stream",
          "name": "stderr",
          "text": [
            "[nltk_data] Downloading package averaged_perceptron_tagger to\n",
            "[nltk_data]     /root/nltk_data...\n",
            "[nltk_data]   Unzipping taggers/averaged_perceptron_tagger.zip.\n"
          ]
        },
        {
          "output_type": "execute_result",
          "data": {
            "text/plain": [
              "True"
            ]
          },
          "metadata": {},
          "execution_count": 41
        }
      ]
    },
    {
      "cell_type": "code",
      "source": [
        "from nltk.corpus import gutenberg\n",
        "from string import punctuation\n",
        "import matplotlib.pyplot as plt\n",
        "import re\n",
        "from collections import Counter"
      ],
      "metadata": {
        "id": "awpXxyVPcoN_"
      },
      "execution_count": null,
      "outputs": []
    },
    {
      "cell_type": "markdown",
      "source": [
        "## Loading text file"
      ],
      "metadata": {
        "id": "Xlr20fc1Et2R"
      }
    },
    {
      "cell_type": "code",
      "source": [
        "hamlet = gutenberg.open('/content/hamlet.txt')\n",
        "hamlet = hamlet.readlines()\n",
        "hamlet[:5]"
      ],
      "metadata": {
        "colab": {
          "base_uri": "https://localhost:8080/"
        },
        "id": "ePQE4fIActRb",
        "outputId": "4a6ea467-a449-41f8-ba9c-3921b94f0ade"
      },
      "execution_count": null,
      "outputs": [
        {
          "output_type": "execute_result",
          "data": {
            "text/plain": [
              "['THE TRAGEDY OF HAMLET, PRINCE OF DENMARK\\n',\n",
              " '\\n',\n",
              " '\\n',\n",
              " 'by William Shakespeare\\n',\n",
              " '\\n']"
            ]
          },
          "metadata": {},
          "execution_count": 17
        }
      ]
    },
    {
      "cell_type": "markdown",
      "source": [
        "## Clean unwanted spaces"
      ],
      "metadata": {
        "id": "eZ1cbuubE-Xk"
      }
    },
    {
      "cell_type": "code",
      "source": [
        "hamlet = list(filter(None, [item.strip('\\n') for item in hamlet]))"
      ],
      "metadata": {
        "id": "nlZMFCX7iSlQ"
      },
      "execution_count": null,
      "outputs": []
    },
    {
      "cell_type": "markdown",
      "source": [
        "## Text statistics"
      ],
      "metadata": {
        "id": "UpTuajK4FVUZ"
      }
    },
    {
      "cell_type": "code",
      "source": [
        "total_char = 0\n",
        "for line in hamlet:\n",
        "  total_char= total_char+len(line)\n",
        "\n",
        "print(f\"total characters in hemlet {total_char}\")"
      ],
      "metadata": {
        "colab": {
          "base_uri": "https://localhost:8080/"
        },
        "id": "mR6aLi8Ie-kl",
        "outputId": "a7f39054-ea13-4126-af85-5a20af2c6d25"
      },
      "execution_count": null,
      "outputs": [
        {
          "output_type": "stream",
          "name": "stdout",
          "text": [
            "total characters in hemlet 187267\n"
          ]
        }
      ]
    },
    {
      "cell_type": "code",
      "source": [
        "total_words = 0\n",
        "for line in hamlet:\n",
        "  words = line.split()\n",
        "  total_words = total_words + len(words)\n",
        "\n",
        "\n",
        "print(f\"total words in hamlet {total_words}\")"
      ],
      "metadata": {
        "colab": {
          "base_uri": "https://localhost:8080/"
        },
        "id": "wFX2yfBtdhin",
        "outputId": "9b2be5e4-dcf9-45e4-8672-12552dbcb4d3"
      },
      "execution_count": null,
      "outputs": [
        {
          "output_type": "stream",
          "name": "stdout",
          "text": [
            "total words in hamlet 52044\n"
          ]
        }
      ]
    },
    {
      "cell_type": "code",
      "source": [
        "total_line =len(hamlet)\n",
        "print(f\"total number of sentences {total_line}\")"
      ],
      "metadata": {
        "colab": {
          "base_uri": "https://localhost:8080/"
        },
        "id": "Tj5vOPC6e5aP",
        "outputId": "85a50c94-0e75-4336-9acf-5e7670cd2b1f"
      },
      "execution_count": null,
      "outputs": [
        {
          "output_type": "stream",
          "name": "stdout",
          "text": [
            "total number of sentences 4168\n"
          ]
        }
      ]
    },
    {
      "cell_type": "code",
      "source": [
        "longest_line = max(hamlet, key =len)\n",
        "print(f'longest line in document: {longest_line}')"
      ],
      "metadata": {
        "colab": {
          "base_uri": "https://localhost:8080/"
        },
        "id": "CdWYBFX3jUYs",
        "outputId": "273b0d83-73f1-4bdb-d7b9-5d6c05e750d6"
      },
      "execution_count": null,
      "outputs": [
        {
          "output_type": "stream",
          "name": "stdout",
          "text": [
            "longest line in document: Enter King, Queen, Polonius, Ophelia, Rosencrantz, Guildenstern, and Lords.\n"
          ]
        }
      ]
    },
    {
      "cell_type": "code",
      "source": [
        "shortest_line =min(hamlet, key =len)\n",
        "print(f'shortest line in document: {shortest_line}')"
      ],
      "metadata": {
        "colab": {
          "base_uri": "https://localhost:8080/"
        },
        "id": "5hf8vb9okZGm",
        "outputId": "97a45583-f8f8-48f2-8874-ac58b082c526"
      },
      "execution_count": null,
      "outputs": [
        {
          "output_type": "stream",
          "name": "stdout",
          "text": [
            "shortest line in document:   \n"
          ]
        }
      ]
    },
    {
      "cell_type": "markdown",
      "source": [
        "## Lingusitics Analysis"
      ],
      "metadata": {
        "id": "THkCSFlqF64u"
      }
    },
    {
      "cell_type": "code",
      "source": [
        "# cleaning of words\n",
        "tokens = [item.split() for item in hamlet]\n",
        "words = [word for sentence in tokens for word in sentence]\n",
        "words = list(filter(None, [re.sub(r'[^A-Za-z]', '', word) for word in words]))"
      ],
      "metadata": {
        "id": "UNN_vs9epVTm"
      },
      "execution_count": null,
      "outputs": []
    },
    {
      "cell_type": "code",
      "source": [
        "# tagging of words\n",
        "pos_tags = nltk.pos_tag(words, tagset='universal', lang='eng')\n",
        "pos_tags[:10]"
      ],
      "metadata": {
        "colab": {
          "base_uri": "https://localhost:8080/"
        },
        "id": "0vVGT-dPltYd",
        "outputId": "0d291a9b-5157-4536-d2fa-f96f4ecac8a1"
      },
      "execution_count": null,
      "outputs": [
        {
          "output_type": "execute_result",
          "data": {
            "text/plain": [
              "[('tragedy', 'NOUN'),\n",
              " ('hamlet', 'NOUN'),\n",
              " ('prince', 'NOUN'),\n",
              " ('denmark', 'NOUN'),\n",
              " ('william', 'NOUN'),\n",
              " ('shakespeare', 'NOUN'),\n",
              " ('dramatis', 'NOUN'),\n",
              " ('personae', 'NOUN'),\n",
              " ('claudius', 'NOUN'),\n",
              " ('king', 'VERB')]"
            ]
          },
          "metadata": {},
          "execution_count": 47
        }
      ]
    },
    {
      "cell_type": "code",
      "source": [
        "# function to find all tag of specific class and show 5 most common\n",
        "def findtags(tag_prefix, tagged_text):\n",
        "    cfd = nltk.ConditionalFreqDist((tag, word) for (word, tag) in tagged_text\n",
        "                                  if tag.startswith(tag_prefix))\n",
        "    return dict((tag, cfd[tag].most_common(10)) for tag in cfd.conditions())"
      ],
      "metadata": {
        "id": "bZn6Ldt0ltcV"
      },
      "execution_count": null,
      "outputs": []
    },
    {
      "cell_type": "code",
      "source": [
        "# Find most common Nouns\n",
        "tagdict = findtags('NOUN', pos_tags)\n",
        "\n",
        "for tag in sorted(tagdict):\n",
        "    print(tag, tagdict[tag])"
      ],
      "metadata": {
        "colab": {
          "base_uri": "https://localhost:8080/"
        },
        "id": "nzIN8RaOnGpt",
        "outputId": "c6a00f91-ecd7-4028-88d1-46aa0785b472"
      },
      "execution_count": null,
      "outputs": [
        {
          "output_type": "stream",
          "name": "stdout",
          "text": [
            "NOUN [('ham', 249), ('lord', 172), ('hamlet', 92), ('hor', 89), ('thou', 67), ('tis', 62), ('pol', 58), ('hath', 53), ('man', 52), ('let', 50)]\n"
          ]
        }
      ]
    },
    {
      "cell_type": "code",
      "source": [
        "# Find most common Verbs\n",
        "tagdict = findtags('VERB', pos_tags)\n",
        "\n",
        "for tag in sorted(tagdict):\n",
        "    print(tag, tagdict[tag])"
      ],
      "metadata": {
        "colab": {
          "base_uri": "https://localhost:8080/"
        },
        "id": "o7mYuYuSqX7m",
        "outputId": "df952772-576c-44ec-89f1-620a700768a9"
      },
      "execution_count": null,
      "outputs": [
        {
          "output_type": "stream",
          "name": "stdout",
          "text": [
            "VERB [('king', 158), ('shall', 114), ('come', 93), ('would', 81), ('may', 71), ('go', 71), ('know', 66), ('must', 61), ('ham', 56), ('say', 53)]\n"
          ]
        }
      ]
    },
    {
      "cell_type": "code",
      "source": [
        "# Find most common Adjectives\n",
        "tagdict = findtags('ADJ', pos_tags)\n",
        "\n",
        "for tag in sorted(tagdict):\n",
        "    print(tag, tagdict[tag])"
      ],
      "metadata": {
        "colab": {
          "base_uri": "https://localhost:8080/"
        },
        "id": "5ApOOvTVqYS_",
        "outputId": "a23f353c-faa1-420b-d5e5-2d10e798a708"
      },
      "execution_count": null,
      "outputs": [
        {
          "output_type": "stream",
          "name": "stdout",
          "text": [
            "ADJ [('good', 108), ('queen', 97), ('thy', 67), ('ham', 49), ('much', 36), ('lord', 36), ('guildenstern', 30), ('dead', 30), ('speak', 28), ('great', 26)]\n"
          ]
        }
      ]
    },
    {
      "cell_type": "markdown",
      "source": [
        "## Words per sentence distribution"
      ],
      "metadata": {
        "id": "ieyG09TVGiys"
      }
    },
    {
      "cell_type": "code",
      "source": [
        "total_tokens_per_line = [len(sentence.split()) for sentence in hamlet]\n",
        "plt.hist(total_tokens_per_line, color='orange')"
      ],
      "metadata": {
        "colab": {
          "base_uri": "https://localhost:8080/",
          "height": 339
        },
        "id": "DcMCm6VgnGnF",
        "outputId": "ea371fe7-d3b1-4b90-df2b-3dd70ff0cc61"
      },
      "execution_count": 84,
      "outputs": [
        {
          "output_type": "execute_result",
          "data": {
            "text/plain": [
              "(array([  66.,  274.,  237.,  692.,  570., 1401.,  536.,  182.,  182.,\n",
              "          28.]),\n",
              " array([ 0. ,  1.6,  3.2,  4.8,  6.4,  8. ,  9.6, 11.2, 12.8, 14.4, 16. ]),\n",
              " <a list of 10 Patch objects>)"
            ]
          },
          "metadata": {},
          "execution_count": 84
        },
        {
          "output_type": "display_data",
          "data": {
            "text/plain": [
              "<Figure size 432x288 with 1 Axes>"
            ],
            "image/png": "[encoded data removed]"
          },
          "metadata": {
            "needs_background": "light"
          }
        }
      ]
    },
    {
      "cell_type": "markdown",
      "source": [
        "## Get most common words in data"
      ],
      "metadata": {
        "id": "Q6ftGYBQGrBx"
      }
    },
    {
      "cell_type": "code",
      "source": [
        "# removing stop words as these used most of the time and these words dont provide any specific details.\n",
        "words = [word.lower() for word in words if word.lower() not in stopwords]\n",
        "\n",
        "# getting frequency of all the words and printing top 10 words.\n",
        "c = Counter(words)\n",
        "c.most_common(10)"
      ],
      "metadata": {
        "colab": {
          "base_uri": "https://localhost:8080/"
        },
        "id": "hKNlkgcOpu_p",
        "outputId": "83b81e84-9b12-4d4e-d023-438d101760c2"
      },
      "execution_count": null,
      "outputs": [
        {
          "output_type": "execute_result",
          "data": {
            "text/plain": [
              "[('ham', 358),\n",
              " ('lord', 225),\n",
              " ('king', 196),\n",
              " ('queen', 120),\n",
              " ('shall', 114),\n",
              " ('good', 109),\n",
              " ('hor', 109),\n",
              " ('hamlet', 107),\n",
              " ('come', 107),\n",
              " ('thou', 105)]"
            ]
          },
          "metadata": {},
          "execution_count": 80
        }
      ]
    },
    {
      "cell_type": "markdown",
      "source": [
        "## get list of words based on value count of frequency."
      ],
      "metadata": {
        "id": "jT4-HdxTHQJ5"
      }
    },
    {
      "cell_type": "code",
      "source": [
        "def get_words(numb):\n",
        "  words = []\n",
        "  for key, value in c.items():\n",
        "    if numb == value:\n",
        "      words.append(key)\n",
        " \n",
        "  return words"
      ],
      "metadata": {
        "id": "Tfyckhqorgm2"
      },
      "execution_count": null,
      "outputs": []
    },
    {
      "cell_type": "code",
      "source": [
        "# checking for exact frequency of 50 words\n",
        "print(get_words(50)) # no words with 50 freq\n",
        "print(get_words(46)) # 2 words having freq of 46"
      ],
      "metadata": {
        "colab": {
          "base_uri": "https://localhost:8080/"
        },
        "id": "854lF0QpsznE",
        "outputId": "3618405b-1f42-4cb0-b4cb-a64f48292ac7"
      },
      "execution_count": null,
      "outputs": [
        {
          "output_type": "stream",
          "name": "stdout",
          "text": [
            "[]\n",
            "['laertes', 'time']\n"
          ]
        }
      ]
    }
  ]
}